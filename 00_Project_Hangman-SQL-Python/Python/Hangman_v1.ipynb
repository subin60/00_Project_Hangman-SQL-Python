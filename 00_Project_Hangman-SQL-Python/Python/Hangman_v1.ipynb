{
 "cells": [
  {
   "cell_type": "code",
   "execution_count": 3,
   "id": "30b4a215-9f94-48d7-8991-d16cf87534b4",
   "metadata": {},
   "outputs": [
    {
     "name": "stdout",
     "output_type": "stream",
     "text": [
      "==============================================\n",
      "Ready for the game?\n",
      "Please enter level of difficulty: \n",
      "\"E\" for easy, \"M\" for medium, and \"D\" for difficult words\n"
     ]
    },
    {
     "name": "stdin",
     "output_type": "stream",
     "text": [
      " E\n"
     ]
    },
    {
     "name": "stdout",
     "output_type": "stream",
     "text": [
      "==============================================\n",
      "Hidden word is --\n"
     ]
    },
    {
     "name": "stdin",
     "output_type": "stream",
     "text": [
      "Pick a letter:  w\n"
     ]
    },
    {
     "name": "stdout",
     "output_type": "stream",
     "text": [
      "WRONG! Number of mistakes left: 5\n",
      "\n",
      "     +---+\n",
      "     |   |\n",
      "     O   |\n",
      "         |\n",
      "         |\n",
      "         |\n",
      "    =========\n",
      "==============================================\n"
     ]
    },
    {
     "name": "stdin",
     "output_type": "stream",
     "text": [
      "Pick a letter:  d\n"
     ]
    },
    {
     "name": "stdout",
     "output_type": "stream",
     "text": [
      "WRONG! Number of mistakes left: 4\n",
      "\n",
      "     +---+\n",
      "     |   |\n",
      "     O   |\n",
      "     |   |\n",
      "         |\n",
      "         |\n",
      "    =========\n",
      "==============================================\n"
     ]
    },
    {
     "name": "stdin",
     "output_type": "stream",
     "text": [
      "Pick a letter:  f\n"
     ]
    },
    {
     "name": "stdout",
     "output_type": "stream",
     "text": [
      "WRONG! Number of mistakes left: 3\n",
      "\n",
      "     +---+\n",
      "     |   |\n",
      "     O   |\n",
      "    /|   |\n",
      "         |\n",
      "         |\n",
      "    =========\n",
      "==============================================\n"
     ]
    },
    {
     "name": "stdin",
     "output_type": "stream",
     "text": [
      "Pick a letter:  g\n"
     ]
    },
    {
     "name": "stdout",
     "output_type": "stream",
     "text": [
      "WRONG! Number of mistakes left: 2\n",
      "\n",
      "     +---+\n",
      "     |   |\n",
      "     O   |\n",
      "    /|\\  |\n",
      "         |\n",
      "         |\n",
      "    =========\n",
      "==============================================\n"
     ]
    },
    {
     "name": "stdin",
     "output_type": "stream",
     "text": [
      "Pick a letter:  h\n"
     ]
    },
    {
     "name": "stdout",
     "output_type": "stream",
     "text": [
      "WRONG! Number of mistakes left: 1\n",
      "\n",
      "     +---+\n",
      "     |   |\n",
      "     O   |\n",
      "    /|\\  |\n",
      "    /    |\n",
      "         |\n",
      "    =========\n",
      "==============================================\n"
     ]
    },
    {
     "name": "stdin",
     "output_type": "stream",
     "text": [
      "Pick a letter:  b\n"
     ]
    },
    {
     "name": "stdout",
     "output_type": "stream",
     "text": [
      "WRONG! Number of mistakes left: 0\n",
      "\n",
      "     +---+\n",
      "     |   |\n",
      "     O   |\n",
      "    /|\\  |\n",
      "    / \\  |\n",
      "         |\n",
      "    =========\n",
      "==============================================\n",
      "HANGED!!\n",
      "Correct Word: Im\n",
      "==============================================\n"
     ]
    }
   ],
   "source": [
    "import random\n",
    "from english_words import english_words_alpha_set\n",
    "\n",
    "# Hangman ASCII art stages\n",
    "hangman_stages = [\n",
    "    '''\n",
    "     +---+\n",
    "     |   |\n",
    "         |\n",
    "         |\n",
    "         |\n",
    "         |\n",
    "    =========''', '''\n",
    "     +---+\n",
    "     |   |\n",
    "     O   |\n",
    "         |\n",
    "         |\n",
    "         |\n",
    "    =========''', '''\n",
    "     +---+\n",
    "     |   |\n",
    "     O   |\n",
    "     |   |\n",
    "         |\n",
    "         |\n",
    "    =========''', '''\n",
    "     +---+\n",
    "     |   |\n",
    "     O   |\n",
    "    /|   |\n",
    "         |\n",
    "         |\n",
    "    =========''', '''\n",
    "     +---+\n",
    "     |   |\n",
    "     O   |\n",
    "    /|\\\\  |\n",
    "         |\n",
    "         |\n",
    "    =========''', '''\n",
    "     +---+\n",
    "     |   |\n",
    "     O   |\n",
    "    /|\\\\  |\n",
    "    /    |\n",
    "         |\n",
    "    =========''', '''\n",
    "     +---+\n",
    "     |   |\n",
    "     O   |\n",
    "    /|\\\\  |\n",
    "    / \\\\  |\n",
    "         |\n",
    "    ========='''\n",
    "]\n",
    "\n",
    "# Convert the set of English words into a list\n",
    "word_list = list(english_words_alpha_set)\n",
    "\n",
    "# Categorize words based on their length\n",
    "easy_words = []\n",
    "medium_words = []\n",
    "difficult_words = []\n",
    "\n",
    "for word in word_list:\n",
    "    if len(word) <= 3:\n",
    "        easy_words.append(word)\n",
    "    elif len(word) < 7:\n",
    "        medium_words.append(word)\n",
    "    else:\n",
    "        difficult_words.append(word)\n",
    "\n",
    "# Print introduction and prompt for difficulty level\n",
    "print('==============================================')\n",
    "print('''Ready for the game?\n",
    "Please enter level of difficulty: \n",
    "\"E\" for easy, \"M\" for medium, and \"D\" for difficult words''')\n",
    "\n",
    "user_input_level = input().upper()\n",
    "print('==============================================')\n",
    "\n",
    "# Choose a random word based on the selected difficulty level\n",
    "if user_input_level == 'E':\n",
    "    word = random.choice(easy_words)\n",
    "elif user_input_level == 'M':\n",
    "    word = random.choice(medium_words)\n",
    "else:\n",
    "    word = random.choice(difficult_words)\n",
    "\n",
    "# Start the game loop if the chosen word contains only letters\n",
    "if word.isalpha():\n",
    "    hidden_word = '-' * len(word)\n",
    "    print(f'Hidden word is {hidden_word}')\n",
    "    mistake_count = 6\n",
    "\n",
    "    while mistake_count > 0 and hidden_word.count('-') != 0:\n",
    "        picked_letter = input('Pick a letter: ').capitalize()\n",
    "        \n",
    "        # Check if input is valid (single alphabet character)\n",
    "        if picked_letter.isalpha() and len(picked_letter) == 1:\n",
    "            index_count = 0\n",
    "            letter_in_word = False\n",
    "\n",
    "            # Check if the picked letter is in the word\n",
    "            for letter in word:\n",
    "                if letter == picked_letter:\n",
    "                    hidden_word = hidden_word[:index_count] + letter + hidden_word[index_count + 1:]\n",
    "                    letter_in_word = True\n",
    "                index_count += 1\n",
    "\n",
    "            # Display the result of the current guess\n",
    "            if letter_in_word:\n",
    "                print(f'CORRECT! The word contains the {picked_letter}')\n",
    "                print(hidden_word)\n",
    "            else:\n",
    "                mistake_count -= 1\n",
    "                print(f'WRONG! Number of mistakes left: {mistake_count}')\n",
    "                print(hangman_stages[6 - mistake_count])\n",
    "\n",
    "            print('==============================================')\n",
    "\n",
    "        # Handle invalid input cases\n",
    "        elif len(picked_letter) > 1:\n",
    "            print('Sorry, no more than one input is allowed')\n",
    "        else:\n",
    "            print('Sorry, no digits or special characters are allowed')\n",
    "\n",
    "  # Print the final result\n",
    "    if mistake_count == 0:\n",
    "        print('HANGED!!')\n",
    "        print(f'Correct Word: {word}')\n",
    "    else:\n",
    "        print('CONGRATULATIONS!!')\n",
    "\n",
    "    print('==============================================')\n",
    "\n",
    "else:\n",
    "    print('Only words accepted')\n"
   ]
  }
 ],
 "metadata": {
  "kernelspec": {
   "display_name": "Python 3 (ipykernel)",
   "language": "python",
   "name": "python3"
  },
  "language_info": {
   "codemirror_mode": {
    "name": "ipython",
    "version": 3
   },
   "file_extension": ".py",
   "mimetype": "text/x-python",
   "name": "python",
   "nbconvert_exporter": "python",
   "pygments_lexer": "ipython3",
   "version": "3.9.13"
  }
 },
 "nbformat": 4,
 "nbformat_minor": 5
}
