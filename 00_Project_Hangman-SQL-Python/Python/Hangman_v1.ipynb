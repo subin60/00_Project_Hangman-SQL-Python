{
 "cells": [
  {
   "cell_type": "code",
   "execution_count": 1,
   "id": "30b4a215-9f94-48d7-8991-d16cf87534b4",
   "metadata": {},
   "outputs": [
    {
     "name": "stdout",
     "output_type": "stream",
     "text": [
      "Collecting english-words==1.1.0\n",
      "  Downloading english-words-1.1.0.tar.gz (1.1 MB)\n",
      "\u001b[2K     \u001b[90m━━━━━━━━━━━━━━━━━━━━━━━━━━━━━━━━━━━━━━━━\u001b[0m \u001b[32m1.1/1.1 MB\u001b[0m \u001b[31m6.1 MB/s\u001b[0m eta \u001b[36m0:00:00\u001b[0m00:01\u001b[0m00:01\u001b[0m\n",
      "\u001b[?25h  Preparing metadata (setup.py) ... \u001b[?25ldone\n",
      "\u001b[?25hBuilding wheels for collected packages: english-words\n",
      "  Building wheel for english-words (setup.py) ... \u001b[?25ldone\n",
      "\u001b[?25h  Created wheel for english-words: filename=english_words-1.1.0-py3-none-any.whl size=1106663 sha256=9ee8d39b688231a1aedd985c2a32a931fe7300b243052a48bd6b06cd1e7c6c9a\n",
      "  Stored in directory: /Users/subinjosethomas/Library/Caches/pip/wheels/0e/24/52/b4989db82a438482aa65b3c6c0537e988fd40546b792747b1a\n",
      "Successfully built english-words\n",
      "Installing collected packages: english-words\n",
      "Successfully installed english-words-1.1.0\n",
      "==============================================\n",
      "Ready for the game?\n",
      "Please enter level of difficulty: \n",
      "\"E\" for easy, \"M\" for medium, and \"D\" for difficult words\n"
     ]
    },
    {
     "name": "stdin",
     "output_type": "stream",
     "text": [
      " M\n"
     ]
    },
    {
     "name": "stdout",
     "output_type": "stream",
     "text": [
      "==============================================\n",
      "Hidden word is ----\n"
     ]
    },
    {
     "name": "stdin",
     "output_type": "stream",
     "text": [
      "Pick a letter:  s\n"
     ]
    },
    {
     "name": "stdout",
     "output_type": "stream",
     "text": [
      "WRONG! Number of mistakes left: 5\n",
      "==============================================\n"
     ]
    },
    {
     "name": "stdin",
     "output_type": "stream",
     "text": [
      "Pick a letter:  w\n"
     ]
    },
    {
     "name": "stdout",
     "output_type": "stream",
     "text": [
      "WRONG! Number of mistakes left: 4\n",
      "==============================================\n"
     ]
    },
    {
     "name": "stdin",
     "output_type": "stream",
     "text": [
      "Pick a letter:  e\n"
     ]
    },
    {
     "name": "stdout",
     "output_type": "stream",
     "text": [
      "WRONG! Number of mistakes left: 3\n",
      "==============================================\n"
     ]
    },
    {
     "name": "stdin",
     "output_type": "stream",
     "text": [
      "Pick a letter:  r\n"
     ]
    },
    {
     "name": "stdout",
     "output_type": "stream",
     "text": [
      "WRONG! Number of mistakes left: 2\n",
      "==============================================\n"
     ]
    },
    {
     "name": "stdin",
     "output_type": "stream",
     "text": [
      "Pick a letter:  t\n"
     ]
    },
    {
     "name": "stdout",
     "output_type": "stream",
     "text": [
      "WRONG! Number of mistakes left: 1\n",
      "==============================================\n"
     ]
    },
    {
     "name": "stdin",
     "output_type": "stream",
     "text": [
      "Pick a letter:  z\n"
     ]
    },
    {
     "name": "stdout",
     "output_type": "stream",
     "text": [
      "WRONG! Number of mistakes left: 0\n",
      "==============================================\n",
      "HANGED!!\n",
      "Correct Word: spun\n",
      "==============================================\n"
     ]
    }
   ],
   "source": [
    "import random\n",
    "!pip install english-words==1.1.0\n",
    "from english_words import english_words_alpha_set\n",
    "\n",
    "# Create a list of English words\n",
    "word_list = list(english_words_alpha_set)\n",
    "\n",
    "# Initialize lists for different difficulty levels\n",
    "easy_words = []\n",
    "medium_words = []\n",
    "difficult_words = []\n",
    "\n",
    "# Categorize words based on their lengths\n",
    "for word in word_list:\n",
    "    if len(word) <= 3:\n",
    "        easy_words.append(word)\n",
    "    elif len(word) < 7:\n",
    "        medium_words.append(word)\n",
    "    else:\n",
    "        difficult_words.append(word)\n",
    "\n",
    "print('==============================================')\n",
    "\n",
    "# Prompt the user to select a difficulty level\n",
    "print('''Ready for the game?\n",
    "Please enter level of difficulty: \n",
    "\"E\" for easy, \"M\" for medium, and \"D\" for difficult words''')\n",
    "\n",
    "user_input_level = input().upper()\n",
    "\n",
    "print('==============================================')\n",
    "\n",
    "# Choose a random word based on the selected difficulty level\n",
    "if user_input_level == 'E':\n",
    "    word = random.choice(easy_words)\n",
    "elif user_input_level == 'M':\n",
    "    word = random.choice(medium_words)\n",
    "else:\n",
    "    word = random.choice(difficult_words)\n",
    "\n",
    "# Check if the chosen word is alphabetic\n",
    "if word.isalpha():\n",
    "    hidden_word = '-' * len(word)\n",
    "    print(f'Hidden word is {hidden_word}')\n",
    "    mistake_count = 6\n",
    "\n",
    "    # Continue the game while there are remaining mistakes and the hidden word still contains dashes\n",
    "    while mistake_count > 0 and hidden_word.count('-') != 0:\n",
    "        letter_count = 0\n",
    "        index_count = 0\n",
    "        picked_letter = input('Pick a letter: ').capitalize()\n",
    "\n",
    "        # Check if the user's input is a single alphabet character\n",
    "        if picked_letter.isalpha() and len(picked_letter) == 1:\n",
    "            # Update the hidden word if the user's input matches a letter in the word\n",
    "            for letter in word:\n",
    "                if letter == picked_letter:\n",
    "                    first_part_hidden_word = hidden_word[:index_count]\n",
    "                    last_part_hidden_word = hidden_word[index_count + 1:]\n",
    "                    hidden_word = first_part_hidden_word + letter + last_part_hidden_word\n",
    "                    letter_count = 0\n",
    "                index_count += 1\n",
    "\n",
    "            # Provide feedback to the user based on their guess\n",
    "            if word.count(picked_letter) > 0:\n",
    "                print(f'CORRECT! The word contains the {picked_letter}')\n",
    "                print(hidden_word)\n",
    "            else:\n",
    "                mistake_count -= 1\n",
    "                print(f'WRONG! Number of mistakes left: {mistake_count}')\n",
    "\n",
    "            print('==============================================')\n",
    "\n",
    "        # Handle cases when the user's input is not a single alphabet character\n",
    "        elif len(picked_letter) > 1:\n",
    "            print('Sorry, no more than one input is allowed')\n",
    "        else:\n",
    "            print('Sorry, no digits or special characters are allowed')\n",
    "\n",
    "    # Display the game result\n",
    "    if mistake_count == 0:\n",
    "        print('HANGED!!')\n",
    "        print(f'Correct Word: {word}')\n",
    "    else:\n",
    "        print('CONGRATULATIONS!!')\n",
    "\n",
    "    print('==============================================')\n",
    "\n",
    "else:\n",
    "    print('Only words accepted')\n"
   ]
  },
  {
   "cell_type": "code",
   "execution_count": null,
   "id": "53be87b4-8e1c-4397-ad0b-0e0b9c6f0575",
   "metadata": {},
   "outputs": [],
   "source": []
  }
 ],
 "metadata": {
  "kernelspec": {
   "display_name": "Python 3 (ipykernel)",
   "language": "python",
   "name": "python3"
  },
  "language_info": {
   "codemirror_mode": {
    "name": "ipython",
    "version": 3
   },
   "file_extension": ".py",
   "mimetype": "text/x-python",
   "name": "python",
   "nbconvert_exporter": "python",
   "pygments_lexer": "ipython3",
   "version": "3.9.13"
  }
 },
 "nbformat": 4,
 "nbformat_minor": 5
}
